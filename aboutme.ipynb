{
 "cells": [
  {
   "cell_type": "markdown",
   "id": "f59804a9",
   "metadata": {},
   "source": [
    "# About me"
   ]
  },
  {
   "cell_type": "code",
   "execution_count": 9,
   "id": "c6abee57",
   "metadata": {},
   "outputs": [
    {
     "name": "stdout",
     "output_type": "stream",
     "text": [
      "Hi, My name is Anant\n",
      "Anant ❤️ Nandini\n"
     ]
    }
   ],
   "source": [
    "print(\"Hi, My name is Anant\")\n",
    "print(\"Anant ❤️ Nandini\")"
   ]
  },
  {
   "cell_type": "code",
   "execution_count": 1,
   "id": "a1f04923",
   "metadata": {},
   "outputs": [
    {
     "name": "stdout",
     "output_type": "stream",
     "text": [
      "I am 22 years old!\n"
     ]
    }
   ],
   "source": [
    "print(\"I am 22 years old!\")"
   ]
  },
  {
   "cell_type": "code",
   "execution_count": 5,
   "id": "d5db2708",
   "metadata": {},
   "outputs": [
    {
     "name": "stdout",
     "output_type": "stream",
     "text": [
      "The line is : My name is Anant\n",
      "The total is : 45\n"
     ]
    }
   ],
   "source": [
    "#Use of line continuation syntax\n",
    "line = \"My name is \"\\\n",
    "\"Anant\"\n",
    "\n",
    "total = 1+2+3+4+5+6\\\n",
    "+7+8+9\n",
    "\n",
    "print(f\"The line is : {line}\")\n",
    "print(f\"The total is : {total}\")"
   ]
  },
  {
   "cell_type": "code",
   "execution_count": null,
   "id": "55d7908f",
   "metadata": {},
   "outputs": [
    {
     "name": "stdout",
     "output_type": "stream",
     "text": [
      "15\n"
     ]
    }
   ],
   "source": [
    "#Multiple statements in one line\n",
    "x=5;y=10;z=x+y\n",
    "\n",
    "print(z)"
   ]
  },
  {
   "cell_type": "code",
   "execution_count": 7,
   "id": "0ce1e699",
   "metadata": {},
   "outputs": [
    {
     "name": "stdout",
     "output_type": "stream",
     "text": [
      "5\n"
     ]
    }
   ],
   "source": [
    "#Lambda Functions\n",
    "add = lambda x,y: x+y\n",
    "\n",
    "print(add(2,3))"
   ]
  },
  {
   "cell_type": "code",
   "execution_count": 13,
   "id": "15f0a7ce",
   "metadata": {},
   "outputs": [
    {
     "name": "stdout",
     "output_type": "stream",
     "text": [
      "[1, 4, 9, 16, 25, 36]\n",
      "{1, 4, 36, 9, 16, 25}\n"
     ]
    }
   ],
   "source": [
    "#Map function\n",
    "numbers = [1,2,3,4,5,6]\n",
    "\n",
    "square_lambda = map(lambda x:x**2 , numbers)\n",
    "print(list(square_lambda))  #Convert the mapped function to a list\n",
    "\n",
    "#Same thing using a set\n",
    "numbers = {1,2,3,4,5,6}\n",
    "\n",
    "square_lambda = map(lambda x:x**2 , numbers)\n",
    "print(set(square_lambda))  #Convert the mapped function to a list"
   ]
  }
 ],
 "metadata": {
  "kernelspec": {
   "display_name": "Python 3",
   "language": "python",
   "name": "python3"
  },
  "language_info": {
   "codemirror_mode": {
    "name": "ipython",
    "version": 3
   },
   "file_extension": ".py",
   "mimetype": "text/x-python",
   "name": "python",
   "nbconvert_exporter": "python",
   "pygments_lexer": "ipython3",
   "version": "3.12.7"
  }
 },
 "nbformat": 4,
 "nbformat_minor": 5
}
