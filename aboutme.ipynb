{
 "cells": [
  {
   "cell_type": "markdown",
   "id": "f59804a9",
   "metadata": {},
   "source": [
    "# About me"
   ]
  },
  {
   "cell_type": "code",
   "execution_count": 1,
   "id": "c6abee57",
   "metadata": {},
   "outputs": [
    {
     "name": "stdout",
     "output_type": "stream",
     "text": [
      "Hi, My name is Anant\n"
     ]
    }
   ],
   "source": [
    "print(\"Hi, My name is Anant\")"
   ]
  },
  {
   "cell_type": "code",
   "execution_count": null,
   "id": "a1f04923",
   "metadata": {},
   "outputs": [],
   "source": [
    "print(\"I am 22 years old!\")"
   ]
  }
 ],
 "metadata": {
  "kernelspec": {
   "display_name": "Python 3",
   "language": "python",
   "name": "python3"
  },
  "language_info": {
   "codemirror_mode": {
    "name": "ipython",
    "version": 3
   },
   "file_extension": ".py",
   "mimetype": "text/x-python",
   "name": "python",
   "nbconvert_exporter": "python",
   "pygments_lexer": "ipython3",
   "version": "3.12.7"
  }
 },
 "nbformat": 4,
 "nbformat_minor": 5
}
