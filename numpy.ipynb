{
 "cells": [
  {
   "cell_type": "code",
   "execution_count": 2,
   "id": "aaa637db",
   "metadata": {},
   "outputs": [
    {
     "name": "stdout",
     "output_type": "stream",
     "text": [
      "[1 2 3 4 5]\n",
      "<class 'numpy.ndarray'>\n",
      "(5,)\n"
     ]
    }
   ],
   "source": [
    "#Numpy Practice\n",
    "import numpy as np\n",
    "\n",
    "#Creating arrays using numpy\n",
    "#Creating 1-D array\n",
    "arr1 = np.array([1, 2, 3, 4, 5])\n",
    "print(arr1)\n",
    "print(type(arr1))\n",
    "print(arr1.shape)"
   ]
  },
  {
   "cell_type": "code",
   "execution_count": 6,
   "id": "1166faf4",
   "metadata": {},
   "outputs": [
    {
     "data": {
      "text/plain": [
       "array([[1, 2],\n",
       "       [3, 4]])"
      ]
     },
     "execution_count": 6,
     "metadata": {},
     "output_type": "execute_result"
    }
   ],
   "source": [
    "arr2 = np.array([1,2,3,4])\n",
    "arr2.reshape(2,2)"
   ]
  },
  {
   "cell_type": "code",
   "execution_count": 10,
   "id": "d745f4f3",
   "metadata": {},
   "outputs": [
    {
     "data": {
      "text/plain": [
       "(2, 4)"
      ]
     },
     "execution_count": 10,
     "metadata": {},
     "output_type": "execute_result"
    }
   ],
   "source": [
    "arr3 = np.array([[1,2,3,4],[5,6,7,8]])\n",
    "arr3.shape"
   ]
  },
  {
   "cell_type": "code",
   "execution_count": 15,
   "id": "c75ac431",
   "metadata": {},
   "outputs": [
    {
     "name": "stdout",
     "output_type": "stream",
     "text": [
      "[[1]\n",
      " [3]\n",
      " [5]\n",
      " [7]\n",
      " [9]]\n"
     ]
    }
   ],
   "source": [
    "arr4 = np.arange(1,10,2).reshape(5,1)\n",
    "print(arr4)"
   ]
  },
  {
   "cell_type": "code",
   "execution_count": 17,
   "id": "ea499fa1",
   "metadata": {},
   "outputs": [
    {
     "name": "stdout",
     "output_type": "stream",
     "text": [
      "[[1. 1.]\n",
      " [1. 1.]]\n",
      "[[1. 0. 0.]\n",
      " [0. 1. 0.]\n",
      " [0. 0. 1.]]\n"
     ]
    }
   ],
   "source": [
    "#In-built numpy functions\n",
    "#1. np.ones\n",
    "arr5 = np.ones((2,2))\n",
    "print(arr5)\n",
    "\n",
    "#2. Identity array\n",
    "arr6 = np.eye(3) # Square matrix with diagonals as 1 rest 0 arg is n in n*n \n",
    "print(arr6)"
   ]
  },
  {
   "cell_type": "code",
   "execution_count": 22,
   "id": "e182e0f9",
   "metadata": {},
   "outputs": [
    {
     "name": "stdout",
     "output_type": "stream",
     "text": [
      "Array:\n",
      " [[1 2 3 4]\n",
      " [5 6 7 8]]\n",
      "Shape:\n",
      " (2, 4)\n",
      "Number of dimensions:\n",
      " 2\n",
      "Data Type:\n",
      " int32\n",
      "Item Size:\n",
      " 4\n"
     ]
    }
   ],
   "source": [
    "#Attributes of numpy\n",
    "\n",
    "arr = np.array([[1,2,3,4],[5,6,7,8]])\n",
    "\n",
    "print(\"Array:\\n\", arr)\n",
    "print(\"Shape:\\n\", arr.shape)\n",
    "print(\"Number of dimensions:\\n\", arr.ndim)\n",
    "print(\"Data Type:\\n\", arr.dtype)\n",
    "print(\"Item Size:\\n\", arr.itemsize)"
   ]
  },
  {
   "cell_type": "code",
   "execution_count": 25,
   "id": "8daf0eca",
   "metadata": {},
   "outputs": [
    {
     "name": "stdout",
     "output_type": "stream",
     "text": [
      "Element wise addition: [11 22 33 44 55]\n",
      "Element wise subtraction: [ -9 -18 -27 -36 -45]\n",
      "Element wise multiplication: [ 10  40  90 160 250]\n",
      "Element wise division: [0.1 0.1 0.1 0.1 0.1]\n"
     ]
    }
   ],
   "source": [
    "#Numpy Vectorized operations\n",
    "arr1 = np.array([1,2,3,4,5])\n",
    "arr2 = np.array([10,20,30,40,50])\n",
    "\n",
    "#Element wise operations\n",
    "print(f\"Element wise addition: {arr1+arr2}\")\n",
    "print(f\"Element wise subtraction: {arr1-arr2}\")\n",
    "print(f\"Element wise multiplication: {arr1*arr2}\")\n",
    "print(f\"Element wise division: {arr1/arr2}\")"
   ]
  },
  {
   "cell_type": "code",
   "execution_count": 29,
   "id": "422a2504",
   "metadata": {},
   "outputs": [
    {
     "name": "stdout",
     "output_type": "stream",
     "text": [
      "[1. 2. 3. 6.]\n",
      "[2.71828183e+00 5.45981500e+01 8.10308393e+03 4.31123155e+15]\n"
     ]
    }
   ],
   "source": [
    "#Universal functions\n",
    "arr = np.array([1,4,9,36])\n",
    "print(np.sqrt(arr))\n",
    "\n",
    "#Exponential\n",
    "print(np.exp(arr))"
   ]
  },
  {
   "cell_type": "code",
   "execution_count": 39,
   "id": "54757b95",
   "metadata": {},
   "outputs": [
    {
     "name": "stdout",
     "output_type": "stream",
     "text": [
      "7\n",
      "12\n",
      "1\n",
      "[[ 5  6  7  8]\n",
      " [ 9 10 11 12]]\n",
      "[[3 4]\n",
      " [7 8]]\n",
      "[[ 6  7]\n",
      " [10 11]]\n"
     ]
    }
   ],
   "source": [
    "arr = np.array([[1,2,3,4],[5,6,7,8],[9,10,11,12]])\n",
    "print(arr[1][2])\n",
    "print(arr[2][3])\n",
    "print(arr[0][0])\n",
    "print(arr[1:])  #Slicing\n",
    "print(arr[0:2, 2:4]) # To get 3 4 7 8\n",
    "print(arr[1:3, 1:3]) # To get 6,7,10,11"
   ]
  },
  {
   "cell_type": "code",
   "execution_count": 40,
   "id": "9cadf9f4",
   "metadata": {},
   "outputs": [
    {
     "name": "stdout",
     "output_type": "stream",
     "text": [
      "[[1100    2    3    4]\n",
      " [   5    6    7    8]\n",
      " [   9   10   11   12]]\n"
     ]
    }
   ],
   "source": [
    "#Modify array elements\n",
    "arr[0][0] = 1100\n",
    "print(arr)"
   ]
  },
  {
   "cell_type": "code",
   "execution_count": 45,
   "id": "66b4cdc3",
   "metadata": {},
   "outputs": [
    {
     "name": "stdout",
     "output_type": "stream",
     "text": [
      "3.0\n",
      "1.4142135623730951\n",
      "[-1.41421356 -0.70710678  0.          0.70710678  1.41421356]\n"
     ]
    }
   ],
   "source": [
    "#Normalization\n",
    "data = np.array([1,2,3,4,5])\n",
    "\n",
    "mean  =np.mean(data)\n",
    "print(mean)\n",
    "\n",
    "std = np.std(data)\n",
    "print(std)\n",
    "\n",
    "normalized_data = (data-mean)/std\n",
    "print(normalized_data)"
   ]
  },
  {
   "cell_type": "code",
   "execution_count": 47,
   "id": "871e09c7",
   "metadata": {},
   "outputs": [
    {
     "name": "stdout",
     "output_type": "stream",
     "text": [
      "Mean: 30.0\n",
      "Median: 30.0\n",
      "Standard Deviation: 14.142135623730951\n",
      "Variance: 200.0\n"
     ]
    }
   ],
   "source": [
    "#Calculating mean,median,std dev and variance \n",
    "data = np.array([10,20,30,40,50])\n",
    "\n",
    "print(f\"Mean: {np.mean(data)}\")\n",
    "print(f\"Median: {np.median(data)}\")\n",
    "print(f\"Standard Deviation: {np.std(data)}\")\n",
    "print(f\"Variance: {np.var(data)}\")"
   ]
  },
  {
   "cell_type": "code",
   "execution_count": 55,
   "id": "806c063b",
   "metadata": {},
   "outputs": [
    {
     "name": "stdout",
     "output_type": "stream",
     "text": [
      "[4 5 6 7 8]\n"
     ]
    }
   ],
   "source": [
    "#Logical Operation\n",
    "\n",
    "data = np.array([1,2,3,4,5,6,7,8,9,10])\n",
    "\n",
    "print(data[(data>3) & (data<9)])"
   ]
  }
 ],
 "metadata": {
  "kernelspec": {
   "display_name": "Python 3",
   "language": "python",
   "name": "python3"
  },
  "language_info": {
   "codemirror_mode": {
    "name": "ipython",
    "version": 3
   },
   "file_extension": ".py",
   "mimetype": "text/x-python",
   "name": "python",
   "nbconvert_exporter": "python",
   "pygments_lexer": "ipython3",
   "version": "3.12.7"
  }
 },
 "nbformat": 4,
 "nbformat_minor": 5
}
